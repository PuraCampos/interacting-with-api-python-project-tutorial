{
 "cells": [
  {
   "cell_type": "markdown",
   "metadata": {},
   "source": [
    "# API-SPOTIFY"
   ]
  },
  {
   "cell_type": "code",
   "execution_count": 7,
   "metadata": {},
   "outputs": [],
   "source": [
    "import os\n",
    "import pandas as pd\n",
    "import seaborn as sns\n",
    "from dotenv import load_dotenv\n",
    "import spotipy \n",
    "from spotipy.oauth2 import SpotifyClientCredentials\n",
    "import matplotlib.pyplot as plt"
   ]
  },
  {
   "cell_type": "code",
   "execution_count": 8,
   "metadata": {},
   "outputs": [],
   "source": [
    "load_dotenv()\n",
    "client_id = os.getenv(\"CLIENT_ID\")\n",
    "client_secret = os.getenv(\"CLIENT_SECRET\")"
   ]
  },
  {
   "cell_type": "code",
   "execution_count": 9,
   "metadata": {},
   "outputs": [],
   "source": [
    "auth_manager = SpotifyClientCredentials(client_id = client_id, client_secret = client_secret)\n",
    "sp = spotipy.Spotify(auth_manager=auth_manager)"
   ]
  },
  {
   "cell_type": "code",
   "execution_count": 10,
   "metadata": {},
   "outputs": [],
   "source": [
    "artist_ID = \"0s5dS3eWWnruwMMtgn7pgQ\""
   ]
  },
  {
   "cell_type": "code",
   "execution_count": 11,
   "metadata": {},
   "outputs": [
    {
     "name": "stdout",
     "output_type": "stream",
     "text": [
      "                              name  popularity  duration_ms\n",
      "6             Fandangos Abandolaos          18     3.118300\n",
      "8           Un Ala Rota - Garrotín          18     4.137500\n",
      "9                    Agua - Tangos          19     3.653333\n",
      "7      Aunque se apaguen las luces          19     3.425000\n",
      "4  Alumbra El Firmamento - Guajira          26     4.353200\n"
     ]
    }
   ],
   "source": [
    "result = sp.artist_top_tracks(artist_ID, country=\"ES\")\n",
    "if result: \n",
    "    tracks = result[\"tracks\"]\n",
    "    tracks = [\n",
    "        {\n",
    "            \"name\": track[\"name\"],\n",
    "            \"popularity\": track[\"popularity\"],\n",
    "            \"duration_ms\": (track[\"duration_ms\"] / (1000 * 60)) \n",
    "        }\n",
    "        for track in tracks\n",
    "    ]\n",
    "\n",
    "tracks_df = pd.DataFrame.from_records(tracks)\n",
    "tracks_df.sort_values([\"popularity\"], inplace = True)\n",
    "\n",
    "print(tracks_df.head(5))"
   ]
  },
  {
   "cell_type": "code",
   "execution_count": 12,
   "metadata": {},
   "outputs": [],
   "source": [
    "sns.set_theme(style=\"whitegrid\")\n",
    "cmap = sns.cubehelix_palette(rot=-.2, as_cmap=True)\n",
    "\n"
   ]
  },
  {
   "cell_type": "code",
   "execution_count": 13,
   "metadata": {},
   "outputs": [
    {
     "data": {
      "image/png": "[encoded data removed]",
      "text/plain": [
       "<Figure size 640x480 with 1 Axes>"
      ]
     },
     "metadata": {},
     "output_type": "display_data"
    }
   ],
   "source": [
    "scatter_plot = sns.scatterplot(data = tracks_df, x = \"popularity\", y = \"duration_ms\")\n",
    "\n",
    "plt.xlabel(\"Popularity\")\n",
    "plt.ylabel(\"Duration (minutes)\")\n",
    "plt.savefig(\"Rocio_Marquez_top_tracks.png\")\n",
    "\n",
    "plt.show()"
   ]
  }
 ],
 "metadata": {
  "kernelspec": {
   "display_name": "Python 3",
   "language": "python",
   "name": "python3"
  },
  "language_info": {
   "codemirror_mode": {
    "name": "ipython",
    "version": 3
   },
   "file_extension": ".py",
   "mimetype": "text/x-python",
   "name": "python",
   "nbconvert_exporter": "python",
   "pygments_lexer": "ipython3",
   "version": "3.11.4"
  },
  "orig_nbformat": 4
 },
 "nbformat": 4,
 "nbformat_minor": 2
}
